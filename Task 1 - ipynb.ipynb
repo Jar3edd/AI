{
 "cells": [
  {
   "cell_type": "code",
   "execution_count": 1,
   "id": "18f842e3",
   "metadata": {},
   "outputs": [],
   "source": [
    "my_list = [10, \"twenty,\", 30, \"fourty\", 50]"
   ]
  },
  {
   "cell_type": "code",
   "execution_count": 8,
   "id": "0748eafa",
   "metadata": {},
   "outputs": [
    {
     "name": "stdout",
     "output_type": "stream",
     "text": [
      "twenty,\n"
     ]
    }
   ],
   "source": [
    "print(my_list[1])"
   ]
  },
  {
   "cell_type": "code",
   "execution_count": 9,
   "id": "7fef5068",
   "metadata": {},
   "outputs": [],
   "source": [
    "l_2d_list = [\n",
    "    [1,2,3,4,5],\n",
    "    [6,7,8,9,10]\n",
    "]"
   ]
  },
  {
   "cell_type": "code",
   "execution_count": 10,
   "id": "971c874e",
   "metadata": {},
   "outputs": [
    {
     "data": {
      "text/plain": [
       "5"
      ]
     },
     "execution_count": 10,
     "metadata": {},
     "output_type": "execute_result"
    }
   ],
   "source": [
    "l_2d_list[0][4]"
   ]
  },
  {
   "cell_type": "code",
   "execution_count": 11,
   "id": "409c4495",
   "metadata": {},
   "outputs": [],
   "source": [
    "my_list.append(60)"
   ]
  },
  {
   "cell_type": "code",
   "execution_count": 12,
   "id": "bf67e826",
   "metadata": {},
   "outputs": [
    {
     "name": "stdout",
     "output_type": "stream",
     "text": [
      "[10, 'twenty,', 30, 'fourty', 50, 60]\n"
     ]
    }
   ],
   "source": [
    "print (my_list)"
   ]
  },
  {
   "cell_type": "code",
   "execution_count": 13,
   "id": "26c143a7",
   "metadata": {},
   "outputs": [],
   "source": [
    "my_tuple = (1,2,3,4)"
   ]
  },
  {
   "cell_type": "code",
   "execution_count": 14,
   "id": "b9a6571b",
   "metadata": {},
   "outputs": [
    {
     "name": "stdout",
     "output_type": "stream",
     "text": [
      "[1]\n"
     ]
    }
   ],
   "source": [
    "print([1])"
   ]
  },
  {
   "cell_type": "code",
   "execution_count": 15,
   "id": "4ed38338",
   "metadata": {},
   "outputs": [],
   "source": [
    "student = {\n",
    "    \"name\": \"Andy\",\n",
    "    \"age\": 17,\n",
    "    \"subjects\": [\n",
    "        \"Math\",\n",
    "        \"English\",\n",
    "        \"Computing\"\n",
    "    ]\n",
    "\n",
    "}"
   ]
  },
  {
   "cell_type": "code",
   "execution_count": 21,
   "id": "a1365ba2",
   "metadata": {},
   "outputs": [
    {
     "name": "stdout",
     "output_type": "stream",
     "text": [
      "Andy\n",
      "Math\n"
     ]
    }
   ],
   "source": [
    "print(student[\"name\"])\n",
    "print(student[\"subjects\"][0])"
   ]
  },
  {
   "cell_type": "code",
   "execution_count": null,
   "id": "c144d76d",
   "metadata": {},
   "outputs": [],
   "source": []
  }
 ],
 "metadata": {
  "kernelspec": {
   "display_name": "Python 3",
   "language": "python",
   "name": "python3"
  },
  "language_info": {
   "codemirror_mode": {
    "name": "ipython",
    "version": 3
   },
   "file_extension": ".py",
   "mimetype": "text/x-python",
   "name": "python",
   "nbconvert_exporter": "python",
   "pygments_lexer": "ipython3",
   "version": "3.11.9"
  }
 },
 "nbformat": 4,
 "nbformat_minor": 5
}
