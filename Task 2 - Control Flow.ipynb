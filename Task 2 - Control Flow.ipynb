{
 "cells": [
  {
   "cell_type": "code",
   "execution_count": 1,
   "id": "fe223576",
   "metadata": {},
   "outputs": [],
   "source": [
    "number_1 = 8\n",
    "number_2 = 12"
   ]
  },
  {
   "cell_type": "code",
   "execution_count": null,
   "id": "545ac18e",
   "metadata": {},
   "outputs": [
    {
     "ename": "SyntaxError",
     "evalue": "expected ':' (4096917663.py, line 5)",
     "output_type": "error",
     "traceback": [
      "  \u001b[36mCell\u001b[39m\u001b[36m \u001b[39m\u001b[32mIn[3]\u001b[39m\u001b[32m, line 5\u001b[39m\n\u001b[31m    \u001b[39m\u001b[31melse print(f\"number 1 is equal to number 2\")\u001b[39m\n         ^\n\u001b[31mSyntaxError\u001b[39m\u001b[31m:\u001b[39m expected ':'\n"
     ]
    }
   ],
   "source": [
    "if number_1 > number_2:\n",
    "    print(f\"number_1: {number_1} is greater than number 2: {number_2}\")\n",
    "elif number_1 < number_2:\n",
    "    print(f\"number_1: {number_1} is less than number 2 {number_2}\")\n",
    "else:\n",
    "    print(f\"number 1 is equal to number 2\")"
   ]
  },
  {
   "cell_type": "code",
   "execution_count": null,
   "id": "9437ffed",
   "metadata": {},
   "outputs": [],
   "source": []
  }
 ],
 "metadata": {
  "kernelspec": {
   "display_name": "Python 3",
   "language": "python",
   "name": "python3"
  },
  "language_info": {
   "codemirror_mode": {
    "name": "ipython",
    "version": 3
   },
   "file_extension": ".py",
   "mimetype": "text/x-python",
   "name": "python",
   "nbconvert_exporter": "python",
   "pygments_lexer": "ipython3",
   "version": "3.11.9"
  }
 },
 "nbformat": 4,
 "nbformat_minor": 5
}
